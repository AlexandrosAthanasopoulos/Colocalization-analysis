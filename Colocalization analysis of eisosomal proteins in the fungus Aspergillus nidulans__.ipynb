{
 "cells": [
  {
   "cell_type": "markdown",
   "id": "f911eed9-504c-49f1-be18-1e48f411cc20",
   "metadata": {},
   "source": [
    "# Colocalization analysis (using python) of eisosomal proteins in the fungus *Aspergillus nidulans*"
   ]
  },
  {
   "cell_type": "markdown",
   "id": "76f8e0c3-437c-4447-a936-9620f78e90db",
   "metadata": {
    "citation-manager": {
     "citations": {
      "0269k": [
       {
        "id": "927905/28U4KPUY",
        "source": "zotero"
       }
      ],
      "e6byi": [
       {
        "id": "927905/LTIFT7ZC",
        "source": "zotero"
       }
      ],
      "lyqfo": [
       {
        "id": "927905/333KSNHG",
        "source": "zotero"
       }
      ],
      "tsq5c": [
       {
        "id": "927905/C2JLDJ4S",
        "source": "zotero"
       }
      ]
     }
    },
    "tags": []
   },
   "source": [
    "\n",
    "The plasma membrane (PM) of all cells coordinates a diverse array of functions by segregating different activities into specialized domains or compartments that vary in size, stability and composition  <cite id=\"tsq5c\"><a href=\"#zotero|927905/C2JLDJ4S\">(Lingwood &#38; Simons, 2010)</a></cite>. \n",
    " \n",
    "In the model filamentous fungus <i>Aspergillus nidulans</i>, proteins such as PilA, PilB, AnNce102 and SurG <cite id=\"lyqfo\"><a href=\"#zotero|927905/333KSNHG\">(Vangelatos et al., 2010)</a></cite> are assembled and form tightly packed stable structures in the PM of the fungus, called eisosomes <cite id=\"e6byi\"><a href=\"#zotero|927905/LTIFT7ZC\">(Athanasopoulos et al., 2015)</a></cite>. For additional information about eisosomal proteins in the model fungus <i>A. nidulans</i> please visit Vicky's Sophianopoulou lab <a href=\"http://bio.demokritos.gr/en/main-page-mmgl\">(Microbial Molecular Genetics Laboratory).\n",
    "\n",
    "\n",
    "Here, our goal is to investigate, using python, the colocalization <cite id=\"0269k\"><a href=\"#zotero|927905/28U4KPUY\">(Dunn et al., 2011)</a></cite> of fluorescent proteins AnNce102 (with mRFP) and SurG (with GFP) in <i>A. nidulans</i> germlings.\n",
    "    \n",
    "### References:    \n",
    "<!-- BIBLIOGRAPHY START -->\n",
    "<div class=\"csl-bib-body\">\n",
    "  <div class=\"csl-entry\"><i id=\"zotero|927905/LTIFT7ZC\"></i>Athanasopoulos, A., Gournas, C., Amillis, S., &#38; Sophianopoulou, V. (2015). Characterization of AnNce102 and its role in eisosome stability and sphingolipid biosynthesis. <i>Scientific Reports</i>, <i>5</i>, 15200. <a href=\"https://doi.org/10.1038/srep15200\">https://doi.org/10.1038/srep15200</a></div>\n",
    "  <div class=\"csl-entry\"><i id=\"zotero|927905/28U4KPUY\"></i>Dunn, K. W., Kamocka, M. M., &#38; McDonald, J. H. (2011). A practical guide to evaluating colocalization in biological microscopy. <i>American Journal of Physiology-Cell Physiology</i>, <i>300</i>(4), C723–C742. <a href=\"https://doi.org/10.1152/ajpcell.00462.2010\">https://doi.org/10.1152/ajpcell.00462.2010</a></div>\n",
    "  <div class=\"csl-entry\"><i id=\"zotero|927905/C2JLDJ4S\"></i>Lingwood, D., &#38; Simons, K. (2010). Lipid rafts as a membrane-organizing principle. <i>Science (New York, N.Y.)</i>, <i>327</i>(5961), 46–50. <a href=\"https://doi.org/10.1126/science.1174621\">https://doi.org/10.1126/science.1174621</a></div>\n",
    "  <div class=\"csl-entry\"><i id=\"zotero|927905/333KSNHG\"></i>Vangelatos, I., Roumelioti, K., Gournas, C., Suarez, T., Scazzocchio, C., &#38; Sophianopoulou, V. (2010). Eisosome organization in the filamentous ascomycete Aspergillus nidulans. <i>Eukaryotic Cell</i>, <i>9</i>(10), 1441–1454. <a href=\"https://doi.org/10.1128/EC.00087-10\">https://doi.org/10.1128/EC.00087-10</a></div>\n",
    "</div>\n",
    "<!-- BIBLIOGRAPHY END -->\n",
    "    \n",
    "    \n"
   ]
  },
  {
   "cell_type": "code",
   "execution_count": null,
   "id": "059bd8f5-65a0-436e-8be7-cce33df592b3",
   "metadata": {},
   "outputs": [],
   "source": [
    "# import libraries\n",
    "import numpy as np\n",
    "import seaborn as sns\n",
    "import matplotlib\n",
    "import matplotlib.pyplot as plt\n",
    "from skimage import io, img_as_float,img_as_ubyte,img_as_uint,filters,restoration,measure\n",
    "from skimage.measure import profile_line\n",
    "import os\n",
    "import pandas as pd\n",
    "from matplotlib_scalebar.scalebar import ScaleBar\n",
    "import holoviews as hv\n",
    "hv.extension('bokeh')"
   ]
  },
  {
   "cell_type": "markdown",
   "id": "2cdda217-f20c-41fb-8999-51e8f7d69945",
   "metadata": {
    "citation-manager": {
     "citations": {
      "6rus8": [
       {
        "id": "927905/LTIFT7ZC",
        "source": "zotero"
       }
      ],
      "h97q6": [
       {
        "id": "927905/333KSNHG",
        "source": "zotero"
       }
      ]
     }
    },
    "tags": []
   },
   "source": [
    "To investigate the intracellular localization of AnNce102 <cite id=\"6rus8\"><a href=\"#zotero|927905/LTIFT7ZC\">(Athanasopoulos et al., 2015)</a></cite> and SurG proteins <cite id=\"h97q6\"><a href=\"#zotero|927905/333KSNHG\">(Vangelatos et al., 2010)</a></cite>, C-terminal fusions of <i>annce102</i> and <i>surg</i> open reading frames with mRFP and GFP, fluorophores were constructed, expressing <i>annce102</i> (and <i>surg</i>) from it's endogenous promoter. Below, representative confocal images of AnNce102/SurG in germlings can be seen.\n"
   ]
  },
  {
   "cell_type": "code",
   "execution_count": null,
   "id": "b5b6b6f9-6446-4971-a647-adca9b3ff821",
   "metadata": {},
   "outputs": [],
   "source": [
    "img = io.imread('surG_nce102 12h 5.tif')\n",
    "print(img.shape)\n",
    "img_nce102 = img[:,:,0]\n",
    "img_surg = img[:,:,1]\n",
    "img_op = img[:,:,2]\n",
    "\n",
    "fontsize_title = 16\n",
    "\n",
    "fig,ax = plt.subplots(1,3, figsize=(16,6))\n",
    "ax[0].imshow(img_nce102, cmap=\"gray\")\n",
    "ax[0].set_title(\"AnNce102\", fontsize=fontsize_title,color=\"r\")\n",
    "\n",
    "\n",
    "ax[1].imshow(img_surg, cmap=\"gray\")\n",
    "ax[1].set_title(\"SurG\", fontsize=fontsize_title,color=\"g\")\n",
    "\n",
    "\n",
    "ax[2].imshow(img_op, cmap=\"gray\")\n",
    "ax[2].set_title(\"Brightfield\", fontsize=fontsize_title)\n",
    "\n",
    "plt.show()\n",
    "plt.tight_layout() "
   ]
  },
  {
   "cell_type": "markdown",
   "id": "70aa3ecb-70dc-4285-ab8b-249154bff4a7",
   "metadata": {},
   "source": [
    "<div align=\"justify\"> AnNce102 and SurG are mostly confined:\n",
    "<ul>\n",
    "    <li>to hyphal head (figure A below)</li>\n",
    "    <li>to vacuoles (figure B below) </li>\n",
    "    <li>to septa of germlings (data not shown).</li></ul><div>"
   ]
  },
  {
   "cell_type": "code",
   "execution_count": null,
   "id": "370893d4-6a66-43c9-9392-50368b821b55",
   "metadata": {},
   "outputs": [],
   "source": [
    "fig,ax = plt.subplots(1,2, figsize=(16,6))\n",
    "\n",
    "ax[0].imshow(img_nce102[80:180,200:300], cmap=\"gray\")\n",
    "ax[0].set_title(\"A (zoom of hyphal head )\", fontsize=fontsize_title)\n",
    "\n",
    "\n",
    "ax[1].imshow(img_nce102[150:300,200:350], cmap=\"gray\")\n",
    "ax[1].set_title(\"B (zoom of vacuoles )\", fontsize=fontsize_title)\n",
    "\n",
    "\n",
    "plt.show()\n",
    "plt.tight_layout() "
   ]
  },
  {
   "cell_type": "markdown",
   "id": "6759a59f-cca0-47c7-9dda-d933c92fd68b",
   "metadata": {
    "citation-manager": {
     "citations": {
      "enngi": []
     }
    }
   },
   "source": [
    "<div align=\"justify\">\n",
    "    \n",
    "## Quantifying colocalization\n",
    "There are many ways to quantify colocalization [see Colocalization](http://bebi103.caltech.edu.s3-website-us-east-1.amazonaws.com/2019a/content/recitations/colocalization.html).\n",
    "\n",
    "#### Scatterplot\n",
    "    \n",
    "The results of colocalization analysis can be represented graphically in scatterplots, where the intensity of one color is plotted against the intensity of the second color for each pixel <cite id=\"enngi\"><a href=\"#zotero|927905/28U4KPUY\">(Dunn et al., 2011)</a></cite>\n",
    "\n",
    "On the x-axis pixel values in the red channel (AnNce102) and on the y-axis is pixel values for the green (SurG) channel, are represented..\n",
    "\n",
    "Let's investigate the colocalization* of AnNce102 and SurG. "
   ]
  },
  {
   "cell_type": "code",
   "execution_count": null,
   "id": "6f58cad9-38c1-42e8-aaad-92a9790fda99",
   "metadata": {},
   "outputs": [],
   "source": [
    "def plot_hist(ch1, ch2, ch1_name=\"Red-AnNce102\", ch2_name=\"Green-SurG\"):\n",
    "    \"\"\"Plot a 2D histogram from two channels\"\"\"\n",
    "    # Get histogram data\n",
    "    df_hist = pd.DataFrame({ch1_name: ch1.ravel(), ch2_name: ch2.ravel()})\n",
    "    df_hist = df_hist.groupby(df_hist.columns.tolist()).size().reset_index(name=\"count\")\n",
    "    df_hist[\"log count\"] = np.log10(df_hist[\"count\"])\n",
    "\n",
    "    # Make the plot\n",
    "    return hv.Points(\n",
    "        data=df_hist, kdims=[\"Red-AnNce102\", \"Green-SurG\"], vdims=[\"log count\"]\n",
    "    ).opts(\n",
    "        cmap=\"viridis\",\n",
    "        color=\"log count\",\n",
    "        colorbar=True,\n",
    "        colorbar_opts={\"title\": \"log₁₀ count\"},\n",
    "        frame_height=250,\n",
    "        frame_width=250,\n",
    "        padding=0.02,\n",
    "    )\n",
    "plot_hist(img_nce102, img_surg)"
   ]
  },
  {
   "cell_type": "markdown",
   "id": "c16cb819-ecfa-4060-be16-e9976a493e92",
   "metadata": {
    "citation-manager": {
     "citations": {
      "8a4gf": []
     }
    }
   },
   "source": [
    "## Pearson correlation coefficient (PCC)\n",
    "\n",
    "Image correlation coefficient-based methods for colocalization analysis give a powerful way to quantify colocalization. The idea is to compute a correlation coefficient for the two images, see [IAFIG-RMS Python for Bioimage Analysis](https://github.com/RMS-DAIM/Python-for-Bioimage-Analysis). \n",
    "\n",
    "**The Pearson r, ranges from 1 for two images whose fluorescence intensities are perfectly, linearly related,  to -1 for two images whose fluorescence intensities are perfectly, but inversely, related to one another <cite id=\"8a4gf\"><a href=\"#zotero|927905/28U4KPUY\">(Dunn et al., 2011)</a></cite>**\n",
    "\n"
   ]
  },
  {
   "cell_type": "code",
   "execution_count": null,
   "id": "f0ffd72a-5e33-41f8-bbb2-ecc4d560fdb1",
   "metadata": {},
   "outputs": [],
   "source": [
    "#Calculate the Pearson's coefficent (rho) for the images.\n",
    "X = img_nce102.flatten() # Red channel\n",
    "Y = img_surg.flatten() # Green channel\n",
    "\n",
    "X_bar = np.average(X)\n",
    "Y_bar = np.average(Y)\n",
    "\n",
    "r = np.sum((X-X_bar)*(Y-Y_bar))/(np.sqrt(np.sum((X-X_bar)**2)*(np.sum((Y-Y_bar)**2))))####Insert the remaining code here to finish the equation.\n",
    "print(\"The Pearson correlation coefficient has a value of: \",round(r,3), \" -  meaning there is colocalization between red and green channel\")"
   ]
  },
  {
   "cell_type": "markdown",
   "id": "61fdfaff-c227-4a1c-94ae-65c077448737",
   "metadata": {},
   "source": [
    "## The Mander's test\n",
    "Implement the Mander's test and calculate the value for the image*. \n",
    "*CHB = CH1 & CH2 (& is the 'and' operator. If a pixel is true in both images, it is true in the output CHB). \n",
    "- $$CHB =CH1 + CH2$$  \n",
    "If a pixel is true in both images, it is true in the output CHB\n",
    " <br>\n",
    " - $$M1 =\\frac{CHB}{CH1}$$  \n",
    " <br>\n",
    " - $$M2 =\\frac{CHB}{CH2}$$\n",
    "\n",
    "M1, M2 = The Mander's coefficients"
   ]
  },
  {
   "cell_type": "code",
   "execution_count": null,
   "id": "4e913967-1da4-4281-8382-220f403d81fa",
   "metadata": {},
   "outputs": [],
   "source": [
    "\n",
    "#Convert image to float.\n",
    "img_nce102= img_as_float(img_nce102)\n",
    "img_surg = img_as_float(img_surg)\n",
    "\n",
    "#Calculate thresholds\n",
    "thr_ch1 = filters.threshold_otsu(img_nce102)\n",
    "thr_ch2 = filters.threshold_otsu(img_surg)\n",
    "\n",
    "#Apply thresholds and generate binary images.\n",
    "binary_ch1 = img_nce102 > thr_ch1\n",
    "binary_ch2 = img_surg > thr_ch2\n",
    "\n",
    "binary_chB = binary_ch1 & binary_ch2\n",
    "\n",
    "\n",
    "fontsize_title = 16\n",
    "\n",
    "fig,ax = plt.subplots(1,5, figsize=(16,6))\n",
    "ax[0].imshow(img_nce102, cmap=\"gray\")\n",
    "ax[0].axis(\"off\")  #Remove x and y ticks\n",
    "ax[0].set_title(\"AnNce102\", fontsize=fontsize_title)\n",
    "\n",
    "\n",
    "ax[1].imshow(img_surg, cmap=\"gray\")\n",
    "ax[1].axis(\"off\")  #Remove x and y ticks\n",
    "ax[1].set_title(\"SurG\", fontsize=fontsize_title)\n",
    "\n",
    "\n",
    "ax[2].imshow(binary_ch1, cmap=\"gray\")\n",
    "ax[2].axis(\"off\")  #Remove x and y ticks\n",
    "ax[2].set_title(\"binary_ch1\", fontsize=fontsize_title)\n",
    "\n",
    "ax[3].imshow(binary_ch2, cmap=\"gray\")\n",
    "ax[3].axis(\"off\")  #Remove x and y ticks\n",
    "ax[3].set_title(\"binary_ch2\", fontsize=fontsize_title)\n",
    "\n",
    "ax[4].imshow(binary_chB, cmap=\"gray\")\n",
    "ax[4].axis(\"off\")  #Remove x and y ticks\n",
    "\n",
    "ax[4].set_title(\"binary_chB\", fontsize=fontsize_title)\n",
    "\n",
    "plt.show()\n",
    "# plt.tight_layout()\n",
    "\n",
    "\n",
    "#Calculate the Mander's coefficient for the two channels. Note the formula's above in the description. \n",
    "#You will need to sum the pixels in each channel and then divide one by the other using the above formula\n",
    "M1 = np.sum(binary_chB)/np.sum(binary_ch1)\n",
    "M2 = np.sum(binary_chB)/np.sum(binary_ch2)\n",
    "\n",
    "print(\"M1 =\",M1)\n",
    "print(\"M2 =\",M2)"
   ]
  },
  {
   "cell_type": "code",
   "execution_count": null,
   "id": "0997c007-94f3-4bd7-988c-a7b17951ff01",
   "metadata": {},
   "outputs": [],
   "source": []
  }
 ],
 "metadata": {
  "citation-manager": {
   "items": {
    "zotero": {
     "927905/28U4KPUY": {
      "DOI": "10.1152/ajpcell.00462.2010",
      "URL": "https://www.physiology.org/doi/10.1152/ajpcell.00462.2010",
      "abstract": "Fluorescence microscopy is one of the most powerful tools for elucidating the cellular functions of proteins and other molecules. In many cases, the function of a molecule can be inferred from its association with specific intracellular compartments or molecular complexes, which is typically determined by comparing the distribution of a fluorescently labeled version of the molecule with that of a second, complementarily labeled probe. Although arguably the most common application of fluorescence microscopy in biomedical research, studies evaluating the “colocalization” of two probes are seldom quantified, despite a diversity of image analysis tools that have been specifically developed for that purpose. Here we provide a guide to analyzing colocalization in cell biology studies, emphasizing practical application of quantitative tools that are now widely available in commercial and free image analysis software.",
      "accessed": {
       "date-parts": [
        [
         2022,
         5,
         25
        ]
       ]
      },
      "author": [
       {
        "family": "Dunn",
        "given": "Kenneth W."
       },
       {
        "family": "Kamocka",
        "given": "Malgorzata M."
       },
       {
        "family": "McDonald",
        "given": "John H."
       }
      ],
      "container-title": "American Journal of Physiology-Cell Physiology",
      "id": "927905/28U4KPUY",
      "issue": "4",
      "issued": {
       "date-parts": [
        [
         "2011"
        ]
       ]
      },
      "journalAbbreviation": "American Journal of Physiology-Cell Physiology",
      "language": "en",
      "page": "C723-C742",
      "system_id": "zotero|927905/28U4KPUY",
      "title": "A practical guide to evaluating colocalization in biological microscopy",
      "type": "article-journal",
      "volume": "300"
     },
     "927905/333KSNHG": {
      "DOI": "10.1128/EC.00087-10",
      "abstract": "Eisosomes are subcortical organelles implicated in endocytosis and have hitherto been described only in Saccharomyces cerevisiae. They comprise two homologue proteins, Pil1 and Lsp1, which colocalize with the transmembrane protein Sur7. These proteins are universally conserved in the ascomycetes. We identify in Aspergillus nidulans (and in all members of the subphylum Pezizomycotina) two homologues of Pil1/Lsp1, PilA and PilB, originating from a duplication independent from that extant in the subphylum Saccharomycotina. In the aspergilli there are several Sur7-like proteins in each species, including one strict Sur7 orthologue (SurG in A. nidulans). In A. nidulans conidiospores, but not in hyphae, the three proteins colocalize at the cell cortex and form tightly packed punctate structures that appear different from the clearly distinct eisosome patches observed in S. cerevisiae. These structures are assembled late during the maturation of conidia. In mycelia, punctate structures are present, but they are composed only of PilA, while PilB is diffused in the cytoplasm and SurG is located in vacuoles and endosomes. Deletion of each of the genes does not lead to any obvious growth phenotype, except for moderate resistance to itraconazole. We could not find any obvious association between mycelial (PilA) eisosome-like structures and endocytosis. PilA and SurG are necessary for conidial eisosome organization in ways that differ from those for their S. cerevisiae homologues. These data illustrate that conservation of eisosomal proteins within the ascomycetes is accompanied by a striking functional divergence.",
      "author": [
       {
        "family": "Vangelatos",
        "given": "Ioannis"
       },
       {
        "family": "Roumelioti",
        "given": "Katerina"
       },
       {
        "family": "Gournas",
        "given": "Christos"
       },
       {
        "family": "Suarez",
        "given": "Teresa"
       },
       {
        "family": "Scazzocchio",
        "given": "Claudio"
       },
       {
        "family": "Sophianopoulou",
        "given": "Vicky"
       }
      ],
      "container-title": "Eukaryotic Cell",
      "id": "927905/333KSNHG",
      "issue": "10",
      "issued": {
       "date-parts": [
        [
         2010,
         10
        ]
       ]
      },
      "journalAbbreviation": "Eukaryot Cell",
      "language": "eng",
      "note": "PMID: 20693301\nPMCID: PMC2950425",
      "page": "1441-1454",
      "system_id": "zotero|927905/333KSNHG",
      "title": "Eisosome organization in the filamentous ascomycete Aspergillus nidulans",
      "type": "article-journal",
      "volume": "9"
     },
     "927905/C2JLDJ4S": {
      "DOI": "10.1126/science.1174621",
      "abstract": "Cell membranes display a tremendous complexity of lipids and proteins designed to perform the functions cells require. To coordinate these functions, the membrane is able to laterally segregate its constituents. This capability is based on dynamic liquid-liquid immiscibility and underlies the raft concept of membrane subcompartmentalization. Lipid rafts are fluctuating nanoscale assemblies of sphingolipid, cholesterol, and proteins that can be stabilized to coalesce, forming platforms that function in membrane signaling and trafficking. Here we review the evidence for how this principle combines the potential for sphingolipid-cholesterol self-assembly with protein specificity to selectively focus membrane bioactivity.",
      "author": [
       {
        "family": "Lingwood",
        "given": "Daniel"
       },
       {
        "family": "Simons",
        "given": "Kai"
       }
      ],
      "container-title": "Science (New York, N.Y.)",
      "id": "927905/C2JLDJ4S",
      "issue": "5961",
      "issued": {
       "date-parts": [
        [
         2010,
         1,
         1
        ]
       ]
      },
      "journalAbbreviation": "Science",
      "language": "eng",
      "note": "PMID: 20044567",
      "page": "46-50",
      "system_id": "zotero|927905/C2JLDJ4S",
      "title": "Lipid rafts as a membrane-organizing principle",
      "type": "article-journal",
      "volume": "327"
     },
     "927905/LTIFT7ZC": {
      "DOI": "10.1038/srep15200",
      "URL": "https://www.ncbi.nlm.nih.gov/pmc/articles/PMC4606592/",
      "abstract": "The plasma membrane is implicated in a variety of functions, whose coordination necessitates highly dynamic organization of its constituents into domains of distinct protein and lipid composition. Eisosomes, at least partially, mediate this lateral plasma membrane compartmentalization. In this work, we show that the Nce102 homologue of Aspergillus nidulans colocalizes with eisosomes and plays a crucial role in density/number of PilA/SurG foci in the head of germlings. In addition we demonstrate that AnNce102 and PilA negatively regulate sphingolipid biosynthesis, since their deletions partially suppress the thermosensitivity of basA mutant encoding sphingolipid C4-hydroxylase and the growth defects observed upon treatment with inhibitors of sphingolipid biosynthesis, myriocin and Aureobasidin A. Moreover, we show that YpkA repression mimics genetic or pharmacological depletion of sphingolipids, conditions that induce the production of Reactive Oxygen Species (ROS), and can be partially overcome by deletion of pilA and/or annce102 at high temperatures. Consistent with these findings, pilAΔ and annce102Δ also show differential sensitivity to various oxidative agents, while AnNce102 overexpression can bypass sphingolipid depletion regarding the PilA/SurG foci number and organization, also leading to the mislocalization of PilA to septa.",
      "accessed": {
       "date-parts": [
        [
         2022,
         6,
         8
        ]
       ]
      },
      "author": [
       {
        "family": "Athanasopoulos",
        "given": "Alexandros"
       },
       {
        "family": "Gournas",
        "given": "Christos"
       },
       {
        "family": "Amillis",
        "given": "Sotiris"
       },
       {
        "family": "Sophianopoulou",
        "given": "Vicky"
       }
      ],
      "container-title": "Scientific Reports",
      "id": "927905/LTIFT7ZC",
      "issued": {
       "date-parts": [
        [
         2015,
         10,
         15
        ]
       ]
      },
      "journalAbbreviation": "Sci Rep",
      "note": "PMID: 26468899\nPMCID: PMC4606592",
      "page": "15200",
      "system_id": "zotero|927905/LTIFT7ZC",
      "title": "Characterization of AnNce102 and its role in eisosome stability and sphingolipid biosynthesis",
      "type": "article-journal",
      "volume": "5"
     }
    }
   }
  },
  "kernelspec": {
   "display_name": "Python 3 (ipykernel)",
   "language": "python",
   "name": "python3"
  },
  "language_info": {
   "codemirror_mode": {
    "name": "ipython",
    "version": 3
   },
   "file_extension": ".py",
   "mimetype": "text/x-python",
   "name": "python",
   "nbconvert_exporter": "python",
   "pygments_lexer": "ipython3",
   "version": "3.8.2"
  },
  "toc": {
   "base_numbering": 1,
   "nav_menu": {},
   "number_sections": true,
   "sideBar": true,
   "skip_h1_title": false,
   "title_cell": "Table of Contents",
   "title_sidebar": "Contents",
   "toc_cell": false,
   "toc_position": {},
   "toc_section_display": true,
   "toc_window_display": false
  },
  "widgets": {
   "application/vnd.jupyter.widget-state+json": {
    "state": {},
    "version_major": 2,
    "version_minor": 0
   }
  }
 },
 "nbformat": 4,
 "nbformat_minor": 5
}
